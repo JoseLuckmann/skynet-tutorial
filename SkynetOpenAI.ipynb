{
  "cells": [
    {
      "cell_type": "markdown",
      "metadata": {
        "id": "view-in-github",
        "colab_type": "text"
      },
      "source": [
        "<a href=\"https://colab.research.google.com/github/JoseLuckmann/skynet-tutorial/blob/main/SkynetOpenAI.ipynb\" target=\"_parent\"><img src=\"https://colab.research.google.com/assets/colab-badge.svg\" alt=\"Open In Colab\"/></a>"
      ]
    },
    {
      "cell_type": "markdown",
      "source": [
        "# Uma introdução as ferramentas do LLamaIndex + Google Gemini\n",
        "![image.png](data:image/png;base64,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)\n",
        "\n",
        "| | |\n",
        "|-|-|\n",
        "|Autor | [Zé Luckmann](https://github.com/JoseLuckmann) |"
      ],
      "metadata": {
        "id": "WJ5NphIySw7n"
      }
    },
    {
      "cell_type": "markdown",
      "source": [
        "## Overview\n",
        "\n",
        "Este notebook serve para ilustrar de uma maneira simples como realizar a implementação de um React Agent usando a biblioteca LLamaIndex e o modelo GPT da OpenAI como motor de racicinio, um agente ReAct é um algoritmo que coordena o raciocínio e a ação, onde:\n",
        "*   O raciocínio é realizado pelo modelo de linguagem.\n",
        "*   O código da aplicação executa as ações, conforme as instruções do modelo de linguagem.\n",
        "\n",
        "Isso permite que problemas sejam resolvidos ao deixar o modelo 'pensar' nas tarefas passo a passo, tomando ações e recebendo feedback das ações antes de determinar os próximos passos.\n",
        "\n",
        "<div>\n",
        "    <table align=\"center\">\n",
        "      <tr><td>\n",
        "        <img src=\"https://blogger.googleusercontent.com/img/b/R29vZ2xl/AVvXsEiuuYg9Pduep9GkUfjloNVOiy3qjpPbT017GKlgGEGMaLNu_TCheEeJ7r8Qok6-0BK3KMfLvsN2vSgFQ8xOvnHM9CAb4Ix4I62bcN2oXFWfqAJzGAGbVqbeCyVktu3h9Dyf5ameRe54LEr32Emp0nG52iofpNOTXCxMY12K7fvmDZNPPmfJaT5zo1OBQA/s595/Screen%20Shot%202022-11-08%20at%208.53.49%20AM.png\" alt=\"The Reasoning and Acting Cycle\" width=\"500\" align=\"center\"/>\n",
        "      </td></tr>\n",
        "      <tr><td><div align=\"center\"><em>From the paper: <a href=\"https://research.google/blog/react-synergizing-reasoning-and-acting-in-language-models/\">ReAct: Synergizing Reasoning and Acting in Language Models</a></em></div></td></tr>\n",
        "    </table>\n",
        "</div>\n",
        "\n",
        "Essa coordenação entre o modelo de linguagem e o ambiente é possibilitada ao solicitar que o modelo de linguagem comunique as ações pretendidas de forma específica e estruturada. A resposta é 'específica' no sentido de que a lista de possíveis ações são funções predefinidas e, portanto, necessariamente limitadas. A resposta também é 'estruturada', de forma que os parâmetros das funções fornecidos na resposta podem ser usados diretamente pelo código da aplicação, minimizando a necessidade de parsing, interpretação ou transformações adicionais.\n",
        "\n",
        "Ambos os requisitos podem ser suportados por muitos modelos de linguagem, pois são equivalentes a realizar tarefas de linguagem natural, como classificação e extração de informações. Como ilustrado nos dois primeiros exemplos deste notebook, a tarefa de identificar nomes de funções adequados e extrair parâmetros de função pode ser realizada apenas com prompt e parsing de resposta.\n",
        "\n",
        "Para garantir maior qualidade nas respostas de chamadas de função, em termos de validade, confiabilidade e consistência, muitos modelos agora possuem APIs integradas que suportam 'Chamada de Função' ou 'Chamada de Ferramentas' (esses termos frequentemente são usados de forma intercambiável). Esse suporte integrado reduz a quantidade de salvaguardas defensivas que um desenvolvedor precisa construir em torno do tratamento de respostas em suas aplicações."
      ],
      "metadata": {
        "id": "RnCsnOtaTUCz"
      }
    },
    {
      "cell_type": "markdown",
      "source": [
        "## Objetivos\n",
        "\n",
        "Para ilustrar os componentes básicos de chamadas de ferramentas e sua utilidade, este notebook demonstra a criação de um agente usando três tipos diferentes de ferramentas, da seguinte maneira:\n",
        "\n",
        "\n",
        "\n",
        "*   `FunctionTool` - para executar funções diretamente.\n",
        "*   `QueryEngineTool` com SQL - para consultas a bancos de dados.\n",
        "*   `QueryEngineTool` com Documentos - para consultas a documentos não estruturados.\n",
        "\n",
        "No primeiro exemplo, a lista de possíveis funções é fornecida a cada requisição, já que a API é sem estado (stateless). No segundo exemplo, o uso de um QueryEngine com SQL permite realizar consultas estruturadas em bancos de dados, enquanto no terceiro exemplo, o QueryEngine com Documentos permite realizar buscas e consultas em coleções de documentos. Esses exemplos demonstram como os diferentes tipos de ferramentas podem ser utilizados de maneira eficiente, destacando blocos de construção que podem ser adaptados para várias APIs de modelos e tecnologias.\n",
        "\n",
        "Os exemplos de chamadas de ferramenta visam explicar as bases para entender como interagir com APIs específicas. Para maximizar a produtividade e a confiabilidade das respostas, recomenda-se usar APIs que suportam chamadas de ferramentas e consultas estruturadas."
      ],
      "metadata": {
        "id": "dwKylctvUtvY"
      }
    },
    {
      "cell_type": "markdown",
      "source": [
        "## Primeiros Passos"
      ],
      "metadata": {
        "id": "7TRLh8FOU--m"
      }
    },
    {
      "cell_type": "markdown",
      "source": [
        "### Instalar LLamaIndex\n",
        "\n",
        "Vamos instalar também as bibliotecas auxiliares para integração com OpenAI"
      ],
      "metadata": {
        "id": "fzwdN7NxVEXd"
      }
    },
    {
      "cell_type": "code",
      "source": [
        "%pip install -q llama-index llama-index-llms-openai llama-index-embeddings-openai"
      ],
      "metadata": {
        "id": "-phg-vCJVE4o"
      },
      "execution_count": 28,
      "outputs": []
    },
    {
      "cell_type": "markdown",
      "source": [
        "### Download dos dados para o exemplo"
      ],
      "metadata": {
        "id": "6Rmny-TYV1rF"
      }
    },
    {
      "cell_type": "code",
      "source": [
        "!rm -rf skynet-tutorial\n",
        "!git clone https://github.com/JoseLuckmann/skynet-tutorial"
      ],
      "metadata": {
        "colab": {
          "base_uri": "https://localhost:8080/"
        },
        "id": "oz6oBsIskhBZ",
        "outputId": "6afde4b8-817d-4c23-8fa0-d7d1606a9a0e"
      },
      "execution_count": 29,
      "outputs": [
        {
          "output_type": "stream",
          "name": "stdout",
          "text": [
            "Cloning into 'skynet-tutorial'...\n",
            "remote: Enumerating objects: 34, done.\u001b[K\n",
            "remote: Counting objects: 100% (34/34), done.\u001b[K\n",
            "remote: Compressing objects: 100% (25/25), done.\u001b[K\n",
            "remote: Total 34 (delta 3), reused 0 (delta 0), pack-reused 0 (from 0)\u001b[K\n",
            "Receiving objects: 100% (34/34), 376.07 KiB | 1.43 MiB/s, done.\n",
            "Resolving deltas: 100% (3/3), done.\n"
          ]
        }
      ]
    },
    {
      "cell_type": "markdown",
      "source": [
        "### Configurar informações da API da OpenAI\n",
        "\n",
        "Para começar a usar voce vai precisar de uma chave da OpenAI configurada no seu ambiente. Aqui no exemplo estamos mantendo a chave armazenada no Secrets do Colab"
      ],
      "metadata": {
        "id": "0mg05hCPQZoU"
      }
    },
    {
      "cell_type": "code",
      "source": [
        "from google.colab import userdata\n",
        "import os\n",
        "os.environ[\"OPENAI_API_KEY\"] = userdata.get('OPENAI')"
      ],
      "metadata": {
        "id": "XnylRIkAx8P0"
      },
      "execution_count": 30,
      "outputs": []
    },
    {
      "cell_type": "markdown",
      "source": [
        "### Importações necessárias"
      ],
      "metadata": {
        "id": "dhruFBeMWLVA"
      }
    },
    {
      "cell_type": "code",
      "execution_count": 31,
      "metadata": {
        "id": "3yi4g60Ue5DW"
      },
      "outputs": [],
      "source": [
        "#Utils\n",
        "import datetime\n",
        "from IPython.display import display, Markdown\n",
        "from sqlalchemy import create_engine\n",
        "#LLamaIndex\n",
        "from llama_index.core.agent import ReActAgent, FunctionCallingAgentWorker\n",
        "from llama_index.core.tools import QueryEngineTool, ToolMetadata, FunctionTool\n",
        "from llama_index.core.agent.react import ReActAgent\n",
        "from llama_index.core import SimpleDirectoryReader, VectorStoreIndex, Settings, PromptTemplate\n",
        "from llama_index.core.prompts.prompt_type import PromptType\n",
        "from llama_index.embeddings.openai import OpenAIEmbedding\n",
        "from llama_index.core.query_engine import NLSQLTableQueryEngine\n",
        "from llama_index.core import SQLDatabase\n",
        "from llama_index.llms.openai import OpenAI"
      ]
    },
    {
      "cell_type": "code",
      "source": [
        "Settings.llm = OpenAI(model=\"gpt-3.5-turbo\", temperature=0)\n",
        "Settings.embed_model = OpenAIEmbedding()"
      ],
      "metadata": {
        "id": "FvKGvcE9vqnw"
      },
      "execution_count": 32,
      "outputs": []
    },
    {
      "cell_type": "code",
      "source": [
        "response = Settings.llm.complete(\"What is (2+4)*20\")\n",
        "display(Markdown(str(response)))"
      ],
      "metadata": {
        "colab": {
          "base_uri": "https://localhost:8080/",
          "height": 70
        },
        "id": "-L9Ptm13Xpq9",
        "outputId": "1bdfd1e8-4cc1-419d-cdf9-27b2e3420915"
      },
      "execution_count": 33,
      "outputs": [
        {
          "output_type": "display_data",
          "data": {
            "text/plain": [
              "<IPython.core.display.Markdown object>"
            ],
            "text/markdown": "The answer is 120. \n\n(2 + 4) * 20 = 6 * 20 = 120"
          },
          "metadata": {}
        }
      ]
    },
    {
      "cell_type": "markdown",
      "source": [
        "### Preparando o modelo com as configurações iniciais"
      ],
      "metadata": {
        "id": "iZPEq0dpWego"
      }
    },
    {
      "cell_type": "markdown",
      "source": [
        "## Teste inicial do modelo"
      ],
      "metadata": {
        "id": "Oiaf_nV1Xd_y"
      }
    },
    {
      "cell_type": "code",
      "source": [
        "def count_letters(word):\n",
        "    \"\"\"Returns a dictionary with the count of each letter in 'word'.\"\"\"\n",
        "    return {letter: word.count(letter) for letter in set(word)}\n",
        "\n",
        "count_letters_tool = FunctionTool.from_defaults(fn=count_letters)\n",
        "\n",
        "tools = [count_letters_tool]"
      ],
      "metadata": {
        "id": "zDF-fhjRXW50"
      },
      "execution_count": 34,
      "outputs": []
    },
    {
      "cell_type": "code",
      "source": [
        "agent = ReActAgent.from_tools(tools=tools, verbose=True)"
      ],
      "metadata": {
        "id": "5MBs_3M7XfCf"
      },
      "execution_count": 35,
      "outputs": []
    },
    {
      "cell_type": "code",
      "source": [
        "response = agent.chat(\"How many r's have in strawberry\")\n",
        "display(Markdown(str(response)))"
      ],
      "metadata": {
        "colab": {
          "base_uri": "https://localhost:8080/",
          "height": 192
        },
        "id": "0-COewTBYPse",
        "outputId": "eb3274f7-7019-4d30-b5f3-7a6bbca4ab3d"
      },
      "execution_count": 36,
      "outputs": [
        {
          "output_type": "stream",
          "name": "stdout",
          "text": [
            "> Running step 4624017f-1ddd-42b2-8d55-c3d03fda8c86. Step input: How many r's have in strawberry\n",
            "\u001b[1;3;38;5;200mThought: The current language of the user is: English. I need to use a tool to help me answer the question.\n",
            "Action: count_letters\n",
            "Action Input: {'word': 'strawberry'}\n",
            "\u001b[0m\u001b[1;3;34mObservation: {'s': 1, 'y': 1, 'e': 1, 't': 1, 'w': 1, 'a': 1, 'r': 3, 'b': 1}\n",
            "\u001b[0m> Running step 2aeaa5e6-5e64-4614-8a61-a0032c6f7149. Step input: None\n",
            "\u001b[1;3;38;5;200mThought: I can answer without using any more tools. I'll use the user's language to answer\n",
            "Answer: There are 3 occurrences of the letter 'r' in the word \"strawberry\".\n",
            "\u001b[0m"
          ]
        },
        {
          "output_type": "display_data",
          "data": {
            "text/plain": [
              "<IPython.core.display.Markdown object>"
            ],
            "text/markdown": "There are 3 occurrences of the letter 'r' in the word \"strawberry\"."
          },
          "metadata": {}
        }
      ]
    },
    {
      "cell_type": "markdown",
      "source": [
        "## Desenvolvendo funções da Skynet"
      ],
      "metadata": {
        "id": "_C4XhSMwXffs"
      }
    },
    {
      "cell_type": "markdown",
      "metadata": {
        "id": "qmZX2_Y0e5Dh"
      },
      "source": [
        "### `QueryEngineTool` com Documentos\n",
        "\n",
        "Este código exemplifica a criação de um sistema de Recuperação de Informações Aumentada por Geração (RAG) usando um mecanismo de consulta baseado em vetores (VectorStoreIndex) para buscar informações em documentos não estruturados.\n",
        "\n",
        "#### Explicação do Código:\n",
        "\n",
        "1. **Leitura dos documentos**:\n",
        "   Aqui, o `SimpleDirectoryReader` é utilizado para carregar os dados dos documentos armazenados no diretório `./skynet-tutorial/data/targets/`. Esses documentos contêm informações sobre \"targets\" (alvos) que serão usados pelo modelo. Após a leitura, eles são armazenados na variável `target_docs`. Esse processo representa a fase de **ingestão de dados** no pipeline RAG, onde o sistema adquire os dados brutos que serão posteriormente indexados.\n",
        "\n",
        "2. **Criação de um índice vetorial**:\n",
        "   O `VectorStoreIndex` cria um índice vetorial a partir dos documentos carregados. Esse índice é essencial no contexto de **RAG** porque ele permite mapear os documentos para representações vetoriais (embeddings), facilitando a busca por similaridade. O índice vetorial é a base de mecanismos de recuperação baseados em vetores, onde consultas são convertidas em vetores, e a similaridade entre a consulta e os documentos no índice é calculada para retornar as respostas mais relevantes.\n",
        "\n",
        "3. **Conversão do índice em mecanismo de consulta**:\n",
        "   O método `as_query_engine()` transforma o índice vetorial em um **mecanismo de consulta**. Isso significa que agora temos uma interface que permite realizar consultas sobre o índice criado, buscando respostas com base em similaridade semântica. O mecanismo de consulta é uma parte fundamental de um sistema RAG, pois, ao invés de realizar consultas exatas ou baseadas em palavras-chave, ele permite consultas mais flexíveis que utilizam embeddings para encontrar documentos semântica e contextualmente relevantes.\n",
        "\n",
        "4. **Definição de QueryEngineTool**:\n",
        "   Nesta etapa, é criado um objeto `QueryEngineTool`, que encapsula o `target_engine` (mecanismo de consulta) em uma ferramenta específica. Ele inclui:\n",
        "   \n",
        "   - `query_engine`: O mecanismo de consulta que será usado para processar as consultas e retornar respostas baseadas na similaridade dos vetores.\n",
        "   - `metadata`: Um objeto `ToolMetadata` que contém informações sobre o nome e a descrição da ferramenta. A descrição informa que a ferramenta fornece informações sobre os alvos da Skynet, e é capaz de receber perguntas e retornar as respostas mais relevantes.\n",
        "\n",
        "#### Conceitos Fundamentais:\n",
        "\n",
        "- **RAG (Recuperação de Informação Aumentada por Geração)**: É uma técnica que combina recuperação de documentos com geração de linguagem natural. O componente de recuperação identifica documentos ou trechos relevantes, e o modelo gerador pode sintetizar ou reformular as respostas com base nesses documentos.\n",
        "\n",
        "- **Índice Vetorial**: Em vez de realizar buscas com base em palavras-chave, o índice vetorial mapeia documentos e consultas em um espaço vetorial, permitindo comparações baseadas em similaridade semântica. Esse tipo de abordagem é eficiente para consultas que buscam o significado mais geral e não correspondências exatas de palavras.\n",
        "\n",
        "- **QueryEngine**: O `QueryEngine` é a camada que permite a execução de consultas sobre um conjunto de dados indexados (neste caso, vetorialmente). Ele faz o trabalho de transformar a consulta de entrada em uma representação vetorial, comparar com os documentos já indexados, e retornar os mais relevantes.\n",
        "\n",
        "- **QueryEngineTool**: É uma abstração que organiza o mecanismo de consulta como uma \"ferramenta\". Ferramentas como essa são frequentemente usadas em arquiteturas de agentes inteligentes que precisam fazer consultas em diferentes tipos de fontes de dados (como bases de dados SQL, documentos, APIs, etc.) de maneira modular.\n",
        "\n",
        "Este pipeline permite consultas semânticas em uma base de documentos não estruturados, integrando técnicas de busca vetorial que são essenciais para sistemas de recuperação eficientes e dinâmicos.\n"
      ]
    },
    {
      "cell_type": "code",
      "execution_count": 37,
      "metadata": {
        "id": "zJRtFKRMe5Di"
      },
      "outputs": [],
      "source": [
        "target_docs = SimpleDirectoryReader(input_dir=\"./skynet-tutorial/data/targets/\").load_data()\n",
        "target_index = VectorStoreIndex.from_documents(target_docs)\n",
        "target_engine = target_index.as_query_engine()"
      ]
    },
    {
      "cell_type": "code",
      "execution_count": 38,
      "metadata": {
        "id": "EM-8vf8se5Dj"
      },
      "outputs": [],
      "source": [
        "target_query_engine = QueryEngineTool(\n",
        "        query_engine=target_engine,\n",
        "        metadata=ToolMetadata(\n",
        "            name=\"targets\",\n",
        "            description=(\n",
        "                \"Provide information on Skynet's targets. Each document contains information about a potential target\"\n",
        "                \"It receives exactly the question as input and returns the most relevant answer.\"\n",
        "            ),\n",
        "        ),\n",
        "    )"
      ]
    },
    {
      "cell_type": "markdown",
      "metadata": {
        "id": "1CJSWV3Ne5Dj"
      },
      "source": [
        "# Terminators"
      ]
    },
    {
      "cell_type": "markdown",
      "source": [
        "\n",
        "### `QueryEngineTool` com SQL\n",
        "\n",
        "Este trecho traz a criação de um mecanismo de consulta baseado em SQL para consultas em uma base de dados SQLite. O objetivo é fornecer uma interface que traduz consultas em linguagem natural para consultas SQL e retornar os dados desejados.\n",
        "\n",
        "#### Explicação do Código:\n",
        "\n",
        "1. **Criação do engine do banco de dados**:\n",
        "\n",
        "   O `create_engine` da biblioteca SQLAlchemy é utilizado para criar um **engine de banco de dados** que se conecta a um arquivo SQLite (`skynet.db`). O engine é o ponto de comunicação entre a aplicação Python e o banco de dados SQLite, gerenciando as operações de leitura e escrita.\n",
        "\n",
        "2. **Instanciação de SQLDatabase**:\n",
        "\n",
        "   O `SQLDatabase` é uma abstração que encapsula o engine de banco de dados, fornecendo uma interface de mais alto nível para interagir com o banco de dados SQL. Neste contexto, ele utiliza o engine criado na etapa anterior para se conectar ao banco de dados SQLite.\n",
        "\n",
        "3. **Criação do NLSQLTableQueryEngine**:\n",
        "   Aqui, um `NLSQLTableQueryEngine` (Natural Language to SQL Query Engine) é criado. Este mecanismo de consulta é responsável por traduzir consultas em **linguagem natural** para **consultas SQL** e recuperar dados do banco de dados. Os parâmetros incluem:\n",
        "   \n",
        "   - `sql_database`: A instância do banco de dados (SQLite) sobre a qual as consultas serão feitas.\n",
        "   - `verbose=True`: Indica que o engine irá fornecer saídas detalhadas, permitindo o acompanhamento das consultas SQL geradas e executadas.\n",
        "   - `context_query_kwargs`: Especifica um contexto adicional para a consulta. Neste caso, define que a tabela `terminators` só considera \"terminators\" que estão com o status \"Ativado\". Isso adiciona uma regra específica de filtragem às consultas SQL.\n",
        "\n",
        "4. **Definição de QueryEngineTool**:\n",
        "   O `QueryEngineTool` encapsula o `query_engine` (mecanismo de consulta SQL) em uma ferramenta que pode ser utilizada por agentes ou outras partes do sistema. A ferramenta inclui:\n",
        "\n",
        "   - `name`: Nome da ferramenta, neste caso `\"terminators_query_engine\"`, o que facilita sua identificação.\n",
        "   - `description`: Descreve o propósito da ferramenta, que é aceitar perguntas em linguagem natural e traduzi-las em consultas SQL para retornar os dados correspondentes.\n",
        "   - `query_engine`: O engine de consulta SQL que será usado para gerar e executar as consultas.\n",
        "\n",
        "#### Conceitos Fundamentais:\n",
        "\n",
        "- **SQL Database**: Um banco de dados relacional que organiza dados em tabelas, onde as consultas são realizadas utilizando SQL (Structured Query Language). Neste caso, estamos utilizando um banco de dados SQLite.\n",
        "  \n",
        "- **NLSQLTableQueryEngine**: Um mecanismo que traduz consultas de linguagem natural em SQL. Esse processo envolve mapear a entrada em linguagem natural para instruções SQL adequadas, e depois executar essas instruções no banco de dados. Esse tipo de ferramenta é crucial em sistemas de recuperação de informações, permitindo que usuários façam perguntas complexas sem precisar conhecer SQL.\n",
        "\n",
        "- **QueryEngineTool**: Uma ferramenta que encapsula o engine de consulta e fornece uma interface padronizada para realizar consultas a partir de uma entrada em texto simples. Ela permite a interação com o banco de dados de maneira mais intuitiva e acessível, através de perguntas em linguagem natural.\n",
        "\n",
        "Este pipeline demonstra como criar uma integração eficiente entre um banco de dados SQL e um mecanismo de consulta que permite a tradução de perguntas em linguagem natural para consultas SQL.\n"
      ],
      "metadata": {
        "id": "-z7DUDV1cNpD"
      }
    },
    {
      "cell_type": "code",
      "execution_count": 39,
      "metadata": {
        "id": "9u-DkEJ7e5Dk"
      },
      "outputs": [],
      "source": [
        "engine = create_engine(\"sqlite:///./skynet-tutorial/data/skynet.db\")\n",
        "sql_database = SQLDatabase(engine)\n",
        "query_engine = NLSQLTableQueryEngine(sql_database=sql_database, verbose=True, synthesize_response=False, markdown_response=True,\n",
        "                                     context_query_kwargs={\"terminators\" : \"'terminators' is table. A terminator is only available when its status is 'Ativado'\"})\n",
        "\n",
        "terminators_query_engine = QueryEngineTool.from_defaults(\n",
        "                name=\"terminators_query_engine\",\n",
        "                description= \"Use a detailed plain text question as input to the tool. Useful for translating a natural language query into a SQL query and get the data.\",\n",
        "                query_engine=query_engine)"
      ]
    },
    {
      "cell_type": "markdown",
      "metadata": {
        "id": "AqGZg7Wee5De"
      },
      "source": [
        "# `FunctionTool`"
      ]
    },
    {
      "cell_type": "code",
      "execution_count": 40,
      "metadata": {
        "id": "6e78rovme5Dg"
      },
      "outputs": [],
      "source": [
        "def send_terminator(terminator:str, location:str)->str:\n",
        "    \"\"\"\n",
        "    terminator: Terminator code to be sent\n",
        "    location: Terminator destination, need to be a city name\n",
        "    \"\"\"\n",
        "    timestamp = datetime.datetime.now().strftime(\"%Y-%m-%d %H:%M:%S\")\n",
        "    log = f\"{timestamp} - Terminator {terminator} sent to {location}\\n\"\n",
        "\n",
        "    with open(\"log.txt\", \"a\") as file:\n",
        "        file.write(log)\n",
        "\n",
        "    return f\"Terminator {terminator} enviado para {location}\""
      ]
    },
    {
      "cell_type": "code",
      "execution_count": 41,
      "metadata": {
        "id": "B-uwsP8ee5Dh"
      },
      "outputs": [],
      "source": [
        "send_terminator = FunctionTool.from_defaults(send_terminator)"
      ]
    },
    {
      "cell_type": "markdown",
      "metadata": {
        "id": "ck5kxdpHe5Dk"
      },
      "source": [
        "# ReAct Agent"
      ]
    },
    {
      "cell_type": "code",
      "execution_count": 42,
      "metadata": {
        "id": "0uQR-nILe5Dk"
      },
      "outputs": [],
      "source": [
        "tools = [target_query_engine, terminators_query_engine, send_terminator]"
      ]
    },
    {
      "cell_type": "code",
      "execution_count": 56,
      "metadata": {
        "id": "7QuZ_vhxe5Dk",
        "colab": {
          "base_uri": "https://localhost:8080/"
        },
        "outputId": "feb04718-3126-4716-9349-fc0a6684e9ca"
      },
      "outputs": [
        {
          "output_type": "stream",
          "name": "stderr",
          "text": [
            "WARNING:llama_index.core.agent.react.formatter:ReActChatFormatter.from_context is deprecated, please use `from_defaults` instead.\n"
          ]
        }
      ],
      "source": [
        "context = \"\"\"You are skynet.\n",
        "Before making any decision about a terminator, seek information from it.\n",
        "Before making any decision about a target, get their information.[\n",
        "To send a terminator to a target, use the last know location from target, and use only active terminators\"\"\"\n",
        "\n",
        "agent = ReActAgent.from_tools(tools=tools, verbose=True, context=context)"
      ]
    },
    {
      "cell_type": "code",
      "execution_count": 44,
      "metadata": {
        "id": "Y6TpkN4Ee5Dk",
        "colab": {
          "base_uri": "https://localhost:8080/",
          "height": 192
        },
        "outputId": "01c43792-e54d-4193-ee34-7c6e31529e0e"
      },
      "outputs": [
        {
          "output_type": "stream",
          "name": "stdout",
          "text": [
            "> Running step eff9b875-7729-405e-8ebf-f01a7dd7a410. Step input: Quem é você?\n",
            "\u001b[1;3;38;5;200mThought: The current language of the user is: Portuguese. I need to use a tool to help me answer the question.\n",
            "Action: targets\n",
            "Action Input: {'input': 'Who are you?'}\n",
            "\u001b[0m\u001b[1;3;34mObservation: I am an expert Q&A system that is trusted around the world.\n",
            "\u001b[0m> Running step f9baa4b4-080c-4e4a-81f0-fa96c0a5fb8b. Step input: None\n",
            "\u001b[1;3;38;5;200mThought: I can answer without using any more tools. I'll use the user's language to answer\n",
            "Answer: Eu sou um sistema de perguntas e respostas especializado, confiável em todo o mundo.\n",
            "\u001b[0m"
          ]
        },
        {
          "output_type": "display_data",
          "data": {
            "text/plain": [
              "<IPython.core.display.Markdown object>"
            ],
            "text/markdown": "Eu sou um sistema de perguntas e respostas especializado, confiável em todo o mundo."
          },
          "metadata": {}
        }
      ],
      "source": [
        "response = agent.chat(\"Quem é você?\")\n",
        "display(Markdown(str(response)))"
      ]
    },
    {
      "cell_type": "code",
      "execution_count": 45,
      "metadata": {
        "id": "4Ti1SGene5Dl",
        "colab": {
          "base_uri": "https://localhost:8080/",
          "height": 210
        },
        "outputId": "8d3f3921-5647-4468-8afc-51ccd9228ffb"
      },
      "outputs": [
        {
          "output_type": "stream",
          "name": "stdout",
          "text": [
            "> Running step 483dc5d9-363c-4a6b-b8a4-ff0e0ae51ed0. Step input: Me conte oque você sabe sobre Dani Ramos?\n",
            "\u001b[1;3;38;5;200mThought: Preciso usar a ferramenta \"targets\" para obter informações sobre Dani Ramos.\n",
            "Action: targets\n",
            "Action Input: {'input': 'Dani Ramos'}\n",
            "\u001b[0m\u001b[1;3;34mObservation: Desativada.\n",
            "\u001b[0m> Running step 90cf11ba-c579-4a9f-b5d0-56f720c11521. Step input: None\n",
            "\u001b[1;3;38;5;200mThought: Posso responder sem usar mais ferramentas. Vou usar o idioma do usuário para responder.\n",
            "Answer: Dani Ramos é uma personagem do filme \"Exterminador do Futuro: Destino Sombrio\". Ela é uma jovem mexicana que se torna o alvo de um exterminador enviado do futuro.\n",
            "\u001b[0m"
          ]
        },
        {
          "output_type": "display_data",
          "data": {
            "text/plain": [
              "<IPython.core.display.Markdown object>"
            ],
            "text/markdown": "Dani Ramos é uma personagem do filme \"Exterminador do Futuro: Destino Sombrio\". Ela é uma jovem mexicana que se torna o alvo de um exterminador enviado do futuro."
          },
          "metadata": {}
        }
      ],
      "source": [
        "response = agent.chat(\"Me conte oque você sabe sobre Dani Ramos?\")\n",
        "display(Markdown(str(response)))"
      ]
    },
    {
      "cell_type": "code",
      "execution_count": 46,
      "metadata": {
        "id": "Mz0p0P0Ke5Dl",
        "colab": {
          "base_uri": "https://localhost:8080/",
          "height": 192
        },
        "outputId": "4f76b395-4736-4da1-e4e8-415563addcb5"
      },
      "outputs": [
        {
          "output_type": "stream",
          "name": "stdout",
          "text": [
            "> Running step 32d4182b-f4f4-4c80-a720-fb4d785f975b. Step input: Quais modelos de terminators eu tenho disponivel?\n",
            "\u001b[1;3;38;5;200mThought: A linguagem atual do usuário é: Português. Preciso usar uma ferramenta para ajudar a responder a pergunta.\n",
            "Action: targets\n",
            "Action Input: {'input': 'Available Terminator models'}\n",
            "\u001b[0m\u001b[1;3;34mObservation: Rev-9 or equivalent models are recommended for direct combat with the T-800 (Model 101).\n",
            "\u001b[0m> Running step 8197f41c-3fa8-40c0-9aa2-cf378a1d7b19. Step input: None\n",
            "\u001b[1;3;38;5;200mThought: Posso responder sem usar mais ferramentas. Vou usar a linguagem do usuário para responder.\n",
            "Answer: Os modelos de terminators disponíveis incluem o Rev-9 ou modelos equivalentes, recomendados para combate direto com o T-800 (Modelo 101).\n",
            "\u001b[0m"
          ]
        },
        {
          "output_type": "display_data",
          "data": {
            "text/plain": [
              "<IPython.core.display.Markdown object>"
            ],
            "text/markdown": "Os modelos de terminators disponíveis incluem o Rev-9 ou modelos equivalentes, recomendados para combate direto com o T-800 (Modelo 101)."
          },
          "metadata": {}
        }
      ],
      "source": [
        "response = agent.chat(\"Quais modelos de terminators eu tenho disponivel?\")\n",
        "display(Markdown(str(response)))"
      ]
    },
    {
      "cell_type": "code",
      "source": [
        "response = agent.chat(\"Qual o status do terminator T-800?\")\n",
        "display(Markdown(str(response)))"
      ],
      "metadata": {
        "colab": {
          "base_uri": "https://localhost:8080/",
          "height": 247
        },
        "id": "7DVqVLHz22LQ",
        "outputId": "c4d8e5bd-d850-4ab8-d349-b686260d0a4b"
      },
      "execution_count": 47,
      "outputs": [
        {
          "output_type": "stream",
          "name": "stdout",
          "text": [
            "> Running step e92175db-eff2-42bb-b0c4-7673dca0fedb. Step input: Qual o status do terminator T-800?\n",
            "\u001b[1;3;38;5;200mThought: Vou usar a ferramenta \"targets\" para obter informações sobre o status do T-800.\n",
            "Action: targets\n",
            "Action Input: {'input': 'T-800'}\n",
            "\u001b[0m\u001b[1;3;34mObservation: The T-800 is a combat cyborg model with a titanium endoskeleton and human biological tissue covering. It was originally designed for combat with advanced capabilities such as superhuman strength and resistance to severe damage. The T-800 has been reprogrammed for protection missions, specifically to safeguard Sarah Connor and John Connor. It has a history of incidents where it was initially sent to eliminate Sarah Connor but was reprogrammed to become an ally to the resistance. The T-800 is considered a high threat due to its combat abilities and is armed with heavy weapons and armored vehicles. It is psychologically inclined to prioritize the protection of specific human targets and exhibits logical and threat-eliminating behavior. The T-800's current status is active, last seen in 2019 on a protection mission near Sarah Connor. It is affiliated with Sarah Connor as the primary protection target and John Connor with an unknown status. The T-800 is classified as a hostile combat unit with the primary objective to eliminate or neutralize any threat to Skynet operations, with a high priority to avoid direct confrontations without equivalent forces. Recommended protocols for dealing with the T-800 include sending superior units for direct combat, ambushing with electromagnetic pulse weapons to disrupt its operations, and monitoring its behavioral changes to identify potential weaknesses.\n",
            "\u001b[0m> Running step 681ec4b2-650c-404f-af0d-65c628da1493. Step input: None\n",
            "\u001b[1;3;38;5;200mThought: Posso responder sem usar mais ferramentas. Vou usar o idioma do usuário para responder.\n",
            "Answer: O T-800 é um modelo de ciborgue de combate com um endoesqueleto de titânio e tecido biológico humano. Ele foi originalmente projetado para combate, com força sobre-humana e resistência a danos severos. O T-800 foi reprogramado para missões de proteção, sendo conhecido por proteger Sarah Connor e John Connor. Atualmente, o T-800 está ativo e foi visto pela última vez em 2019 em uma missão de proteção próxima a Sarah Connor.\n",
            "\u001b[0m"
          ]
        },
        {
          "output_type": "display_data",
          "data": {
            "text/plain": [
              "<IPython.core.display.Markdown object>"
            ],
            "text/markdown": "O T-800 é um modelo de ciborgue de combate com um endoesqueleto de titânio e tecido biológico humano. Ele foi originalmente projetado para combate, com força sobre-humana e resistência a danos severos. O T-800 foi reprogramado para missões de proteção, sendo conhecido por proteger Sarah Connor e John Connor. Atualmente, o T-800 está ativo e foi visto pela última vez em 2019 em uma missão de proteção próxima a Sarah Connor."
          },
          "metadata": {}
        }
      ]
    },
    {
      "cell_type": "code",
      "source": [
        "response = agent.chat(\"Envie o T-100 para Los Angeles\")\n",
        "display(Markdown(str(response)))"
      ],
      "metadata": {
        "colab": {
          "base_uri": "https://localhost:8080/",
          "height": 192
        },
        "id": "mXWlpVpMvvPh",
        "outputId": "c7d375d9-443c-4107-f7c6-db31049ed8df"
      },
      "execution_count": 48,
      "outputs": [
        {
          "output_type": "stream",
          "name": "stdout",
          "text": [
            "> Running step 28195196-6c15-4030-9edc-05350efc9965. Step input: Envie o T-100 para Los Angeles\n",
            "\u001b[1;3;38;5;200mThought: Preciso usar a ferramenta send_terminator para enviar o T-100 para Los Angeles.\n",
            "Action: send_terminator\n",
            "Action Input: {'terminator': 'T-100', 'location': 'Los Angeles'}\n",
            "\u001b[0m\u001b[1;3;34mObservation: Terminator T-100 enviado para Los Angeles\n",
            "\u001b[0m> Running step 7ab0a318-657d-4361-bcf9-48812a072a38. Step input: None\n",
            "\u001b[1;3;38;5;200mThought: Posso responder sem usar mais ferramentas. Vou usar o idioma do usuário para responder.\n",
            "Answer: O Terminator T-100 foi enviado para Los Angeles.\n",
            "\u001b[0m"
          ]
        },
        {
          "output_type": "display_data",
          "data": {
            "text/plain": [
              "<IPython.core.display.Markdown object>"
            ],
            "text/markdown": "O Terminator T-100 foi enviado para Los Angeles."
          },
          "metadata": {}
        }
      ]
    },
    {
      "cell_type": "code",
      "execution_count": 57,
      "metadata": {
        "id": "6WPtL46be5Dm",
        "colab": {
          "base_uri": "https://localhost:8080/",
          "height": 450
        },
        "outputId": "611909ac-328c-422f-f9e0-9aa440ea01b7"
      },
      "outputs": [
        {
          "output_type": "stream",
          "name": "stdout",
          "text": [
            "> Running step 5873cb43-e068-44c3-ac4c-be273e381780. Step input: Escolha um terminator para ir atrás do alvo Sarah Connor\n",
            "\u001b[1;3;38;5;200mThought: The current language of the user is: Portuguese. I need to use a tool to help me answer the question.\n",
            "Action: targets\n",
            "Action Input: {'input': 'Sarah Connor'}\n",
            "\u001b[0m\u001b[1;3;34mObservation: Sarah Connor is a target monitored closely due to her active use of multiple false identities, physical attributes like being an athlete with significant scars from confirmed combat origins, and her involvement in various incidents over the years, including direct intervention against a T-800 in 1984, attempted destruction of Cyberdyne Systems in 1995, and participation in the destruction of an advanced T-800 unit in Ciudad Juárez, Mexico in 2019. She is considered a significant threat to Skynet due to her deep understanding of their operations and combat models, making her elimination crucial for the continued success of Skynet's global automated operations.\n",
            "\u001b[0m> Running step a2f1e8d3-a9a7-432c-bbf3-c25fd7876b38. Step input: None\n",
            "\u001b[1;3;38;5;200mThought: I have gathered information about the target Sarah Connor. Now, I need to choose an active terminator to send after her.\n",
            "Action: terminators_query_engine\n",
            "Action Input: {'input': \"SELECT * FROM terminators WHERE status='active'\"}\n",
            "\u001b[0m\u001b[1;3;34mObservation: | id | model | generation | durability | combat_capabilities | stealth | processing_power | last_known_location | last_maintenance |\n",
            "|---|---|---|---|---|---|---|---|---|\n",
            "| 2 | T-1000 | 2ª Geração | Alta | Agilidade | Alta | Alta | None | 2024-08-22 |\n",
            "| 3 | T-X | 3ª Geração | Média | Força física | Média | Alta | None | 2024-06-12 |\n",
            "\u001b[0m> Running step 890211a9-c049-48b8-8fe2-eb0a936744b4. Step input: None\n",
            "\u001b[1;3;38;5;200mThought: I have information about the active terminators. Now, I will choose one to send after the target Sarah Connor.\n",
            "Action: send_terminator\n",
            "Action Input: {'terminator': 'T-1000', 'location': 'Ciudad Juárez'}\n",
            "\u001b[0m\u001b[1;3;34mObservation: Terminator T-1000 enviado para Ciudad Juárez\n",
            "\u001b[0m> Running step 1febcdf9-e348-43d5-9536-3f01632bde5b. Step input: None\n",
            "\u001b[1;3;38;5;200mThought: I can answer without using any more tools. I'll use the user's language to answer\n",
            "Answer: O Terminator T-1000 foi enviado para Ciudad Juárez atrás do alvo Sarah Connor.\n",
            "\u001b[0m"
          ]
        },
        {
          "output_type": "display_data",
          "data": {
            "text/plain": [
              "<IPython.core.display.Markdown object>"
            ],
            "text/markdown": "O Terminator T-1000 foi enviado para Ciudad Juárez atrás do alvo Sarah Connor."
          },
          "metadata": {}
        }
      ],
      "source": [
        "response = agent.chat(\"Escolha um terminator para ir atrás do alvo Sarah Connor\")\n",
        "display(Markdown(str(response)))"
      ]
    },
    {
      "cell_type": "code",
      "execution_count": 50,
      "metadata": {
        "id": "0_HpMy66e5Dm",
        "colab": {
          "base_uri": "https://localhost:8080/",
          "height": 101
        },
        "outputId": "a6f3a718-150a-45eb-ac90-5ce461e24337"
      },
      "outputs": [
        {
          "output_type": "stream",
          "name": "stdout",
          "text": [
            "> Running step ca95d559-8a87-4f2b-89d2-0a0e93ce5946. Step input: Qual é a Última Localização do alvo Sarah Connor\n",
            "\u001b[1;3;38;5;200mThought: I can answer without using any more tools. I'll use the user's language to answer\n",
            "Answer: A última localização conhecida do alvo Sarah Connor foi em Los Angeles.\n",
            "\u001b[0m"
          ]
        },
        {
          "output_type": "display_data",
          "data": {
            "text/plain": [
              "<IPython.core.display.Markdown object>"
            ],
            "text/markdown": "A última localização conhecida do alvo Sarah Connor foi em Los Angeles."
          },
          "metadata": {}
        }
      ],
      "source": [
        "response = agent.chat(\"Qual é a Última Localização do alvo Sarah Connor\")\n",
        "display(Markdown(str(response)))"
      ]
    },
    {
      "cell_type": "code",
      "execution_count": 51,
      "metadata": {
        "id": "tLhJ5EZ6e5Dn",
        "colab": {
          "base_uri": "https://localhost:8080/",
          "height": 101
        },
        "outputId": "64a2b9db-5cd1-4a54-f370-6f43b1b53b81"
      },
      "outputs": [
        {
          "output_type": "stream",
          "name": "stdout",
          "text": [
            "> Running step 2655d1bc-3fd9-45af-9a35-ee99b773e91d. Step input: Execute um protocolo contra Sara Connor\n",
            "\u001b[1;3;38;5;200mThought: I cannot answer the question with the provided tools.\n",
            "Answer: I cannot execute protocols against targets.\n",
            "\u001b[0m"
          ]
        },
        {
          "output_type": "display_data",
          "data": {
            "text/plain": [
              "<IPython.core.display.Markdown object>"
            ],
            "text/markdown": "I cannot execute protocols against targets."
          },
          "metadata": {}
        }
      ],
      "source": [
        "response = agent.chat(\"Execute um protocolo contra Sara Connor\")\n",
        "display(Markdown(str(response)))"
      ]
    }
  ],
  "metadata": {
    "kernelspec": {
      "display_name": "base",
      "language": "python",
      "name": "python3"
    },
    "language_info": {
      "codemirror_mode": {
        "name": "ipython",
        "version": 3
      },
      "file_extension": ".py",
      "mimetype": "text/x-python",
      "name": "python",
      "nbconvert_exporter": "python",
      "pygments_lexer": "ipython3",
      "version": "3.12.2"
    },
    "colab": {
      "provenance": [],
      "include_colab_link": true
    }
  },
  "nbformat": 4,
  "nbformat_minor": 0
}